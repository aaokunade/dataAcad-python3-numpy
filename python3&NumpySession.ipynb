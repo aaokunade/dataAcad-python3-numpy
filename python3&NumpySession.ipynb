{
  "nbformat": 4,
  "nbformat_minor": 0,
  "metadata": {
    "colab": {
      "name": "python3&NumpySession.ipynb",
      "provenance": [],
      "authorship_tag": "ABX9TyNIH5oEefMzY9Dk/0Pd2aar"
    },
    "kernelspec": {
      "name": "python3",
      "display_name": "Python 3"
    },
    "language_info": {
      "name": "python"
    }
  },
  "cells": [
    {
      "cell_type": "code",
      "metadata": {
        "id": "EdArC9flDyEC"
      },
      "source": [
        "##Write a program that allows you to enter 4 numbers and stores them in a file called “Numbers”•3\n",
        "\n",
        "myNewFile = open(\"numbers.txt\", \"w\")\n",
        "num1 = input(\"enter a number of choice\\n\")\n",
        "num2 = input(\"enter a number of choice\\n\")\n",
        "num3 = input(\"enter a number of choice\\n\")\n",
        "num4 = input(\"enter a number of choice\\n\")\n",
        "myNewFile.write(f\"{num1}\\n {num2}\\n {num3}\\n {num4}\\n\")\n",
        "myNewFile.close()\n"
      ],
      "execution_count": null,
      "outputs": []
    },
    {
      "cell_type": "code",
      "metadata": {
        "id": "F7m7TcpKD9yg"
      },
      "source": [
        "##Write a program that allows you to enter 4 numbers and stores them in a file called “Numbers”•3\n",
        "\n",
        "with open(\"numbers.txt\", \"r\") as myNewFile:\n",
        "  data = myNewFile.read().replace('\\n', ':')\n",
        "my_file.close()\n",
        "print(data)"
      ],
      "execution_count": null,
      "outputs": []
    },
    {
      "cell_type": "code",
      "metadata": {
        "id": "PZqWGtWHEEZy"
      },
      "source": [
        "##Write a program that allows you to enter 4 numbers and stores them in a file called “Numbers”•3\n",
        "\n",
        "myFile = open(\"numbers.txt\", \"a\")\n",
        "myFile.write(\"50\\n\")\n",
        "myFile.close()"
      ],
      "execution_count": null,
      "outputs": []
    },
    {
      "cell_type": "code",
      "metadata": {
        "id": "3SwLU_-5EFpp"
      },
      "source": [
        "##Write a program to ask a student for their percentage mark and convert this to a grade.\n",
        "\n",
        "def pcntMark():\n",
        "  mark = int(input(\"What is your percentage mark?\"))\n",
        "  return mark\n",
        "  \n",
        "def mark_grade():\n",
        "  markPcnt = pcntMark()\n",
        "  print(markPcnt)\n",
        "  if markPcnt > 40 and markPcnt < 50:\n",
        "    print(\"your grade is E\")\n",
        "  elif markPcnt > 50 and markPcnt < 60:\n",
        "    print(\"your grade is c\")\n",
        "  elif markPcnt > 60 and markPcnt < 70:\n",
        "    print(\"your grade is B\")\n",
        "  elif markPcnt > 70:\n",
        "    print(\"your grade is A\")\n",
        "  else:\n",
        "    print(\"your grade is F\")\n",
        "mark_grade()    \n"
      ],
      "execution_count": null,
      "outputs": []
    },
    {
      "cell_type": "code",
      "metadata": {
        "id": "MHKvK2U3ENZI"
      },
      "source": [
        "##Extension to Task 2\n",
        "\n",
        "def pcntMark():\n",
        "  mark = int(input(\"What is your percentage mark?\"))\n",
        "  return mark\n",
        "  \n",
        "def mark_grade():\n",
        "  markPcnt = pcntMark()\n",
        "  if markPcnt > 40 and markPcnt < 50:\n",
        "    return 2\n",
        "  elif markPcnt > 50 and markPcnt < 60:\n",
        "    return 3\n",
        "  elif markPcnt > 60 and markPcnt < 70:\n",
        "    return 4\n",
        "  elif markPcnt > 70:\n",
        "    return 5\n",
        "  else:\n",
        "    return 1\n",
        "   \n",
        "\n",
        "def targetGrade():\n",
        "  gradePoint = int(mark_grade())\n",
        "  targetGrade = int(input(\"What is your target grade?\\n\"))\n",
        "  if gradePoint > targetGrade or gradePoint == 5:\n",
        "    print(\"Good job, you should reward yourself\")\n",
        "  elif gradePoint < targetGrade:\n",
        "    print(\"Do not relent, you can do better\")\n",
        "  elif gradePoint == targetGrade:\n",
        "    print(\"Weldone, aim higher next time\")\n",
        "  else:\n",
        "    print(\"enter a valid grade\")\n",
        "targetGrade()\n"
      ],
      "execution_count": null,
      "outputs": []
    },
    {
      "cell_type": "code",
      "metadata": {
        "id": "wCQbnweno-j_"
      },
      "source": [
        "##Create a 1D array of numbers from 0 to9\n",
        "import numpy as np\n",
        "array = np.array([0,1,2,3,4,5,6,7,8,9])\n",
        "print(array)"
      ],
      "execution_count": null,
      "outputs": []
    },
    {
      "cell_type": "code",
      "metadata": {
        "id": "a8hociBypH17"
      },
      "source": [
        "##Extract all odd numbers from array of 1-10\n",
        "import numpy as np\n",
        "odd = np.arange(1,10,2)\n",
        "print(odd)"
      ],
      "execution_count": null,
      "outputs": []
    },
    {
      "cell_type": "code",
      "metadata": {
        "id": "0gPbAZFgpJJj"
      },
      "source": [
        "##Replace all odd numbers in an array of 1-10 with the value -1\n",
        "import numpy as np\n",
        "odd = np.arange(1,11,1)\n",
        "odd[odd%2==1] = -1\n",
        "print(odd)"
      ],
      "execution_count": null,
      "outputs": []
    },
    {
      "cell_type": "code",
      "metadata": {
        "id": "-rEQON-ipM6K"
      },
      "source": [
        "##Convert a 1D array to a 2D array with 2rows\n",
        "import numpy as np\n",
        "array = np.array([0,1,2,3,4,5,6,7,8,9])\n",
        "array.reshape(5,2)"
      ],
      "execution_count": null,
      "outputs": []
    },
    {
      "cell_type": "code",
      "metadata": {
        "id": "m4-mlA7JpUFG"
      },
      "source": [
        "##Create two arrays a and b, stack these two arrays vertically use the  np.dot and np.sum to calculatetotals\n",
        "import numpy as np\n",
        "array1 = np.arange(0,41,5).reshape(3,3)\n",
        "array2 = np.arange(0,33,4).reshape(3,3)\n",
        "array3 = np.dot(array1, array2)\n",
        "sum = np.sum(array3, axis=0)\n",
        "sum1 = np.sum(array3, axis=1)\n",
        "print(f\"the matrix multiplication of array1 and array2 is: \\n {array3}\")\n",
        "print(f\"the sum of array1 and array2 at axis 0 is: \\n{sum}\")\n",
        "print(f\"the sum of array1 and array2 at axis 1 is: \\n{sum1}\")\n"
      ],
      "execution_count": null,
      "outputs": []
    },
    {
      "cell_type": "code",
      "metadata": {
        "id": "TSAYjbqzpYaQ"
      },
      "source": [
        "##Create a 3×3 NumPy array of allBoolean value Trues\n",
        "import numpy as np\n",
        "true = np.ones((3,3), dtype=bool)\n",
        "print(true)"
      ],
      "execution_count": null,
      "outputs": []
    }
  ]
}